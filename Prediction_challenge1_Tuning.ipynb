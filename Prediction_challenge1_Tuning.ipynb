{
  "nbformat": 4,
  "nbformat_minor": 0,
  "metadata": {
    "colab": {
      "name": " Prediction challenge1_Tuning.ipynb",
      "provenance": [],
      "collapsed_sections": []
    },
    "kernelspec": {
      "name": "python3",
      "display_name": "Python 3"
    },
    "language_info": {
      "name": "python"
    }
  },
  "cells": [
    {
      "cell_type": "code",
      "execution_count": 1,
      "metadata": {
        "colab": {
          "base_uri": "https://localhost:8080/"
        },
        "id": "586BeUy_tVCn",
        "outputId": "732dee83-888c-4f06-80ca-4bddf956e33b"
      },
      "outputs": [
        {
          "output_type": "stream",
          "name": "stdout",
          "text": [
            "Requirement already satisfied: keras-tuner in /usr/local/lib/python3.7/dist-packages (1.1.0)\n",
            "Requirement already satisfied: packaging in /usr/local/lib/python3.7/dist-packages (from keras-tuner) (21.3)\n",
            "Requirement already satisfied: requests in /usr/local/lib/python3.7/dist-packages (from keras-tuner) (2.23.0)\n",
            "Requirement already satisfied: ipython in /usr/local/lib/python3.7/dist-packages (from keras-tuner) (5.5.0)\n",
            "Requirement already satisfied: numpy in /usr/local/lib/python3.7/dist-packages (from keras-tuner) (1.21.5)\n",
            "Requirement already satisfied: kt-legacy in /usr/local/lib/python3.7/dist-packages (from keras-tuner) (1.0.4)\n",
            "Requirement already satisfied: scipy in /usr/local/lib/python3.7/dist-packages (from keras-tuner) (1.4.1)\n",
            "Requirement already satisfied: tensorboard in /usr/local/lib/python3.7/dist-packages (from keras-tuner) (2.8.0)\n",
            "Requirement already satisfied: pickleshare in /usr/local/lib/python3.7/dist-packages (from ipython->keras-tuner) (0.7.5)\n",
            "Requirement already satisfied: pexpect in /usr/local/lib/python3.7/dist-packages (from ipython->keras-tuner) (4.8.0)\n",
            "Requirement already satisfied: simplegeneric>0.8 in /usr/local/lib/python3.7/dist-packages (from ipython->keras-tuner) (0.8.1)\n",
            "Requirement already satisfied: setuptools>=18.5 in /usr/local/lib/python3.7/dist-packages (from ipython->keras-tuner) (57.4.0)\n",
            "Requirement already satisfied: pygments in /usr/local/lib/python3.7/dist-packages (from ipython->keras-tuner) (2.6.1)\n",
            "Requirement already satisfied: prompt-toolkit<2.0.0,>=1.0.4 in /usr/local/lib/python3.7/dist-packages (from ipython->keras-tuner) (1.0.18)\n",
            "Requirement already satisfied: decorator in /usr/local/lib/python3.7/dist-packages (from ipython->keras-tuner) (4.4.2)\n",
            "Requirement already satisfied: traitlets>=4.2 in /usr/local/lib/python3.7/dist-packages (from ipython->keras-tuner) (5.1.1)\n",
            "Requirement already satisfied: wcwidth in /usr/local/lib/python3.7/dist-packages (from prompt-toolkit<2.0.0,>=1.0.4->ipython->keras-tuner) (0.2.5)\n",
            "Requirement already satisfied: six>=1.9.0 in /usr/local/lib/python3.7/dist-packages (from prompt-toolkit<2.0.0,>=1.0.4->ipython->keras-tuner) (1.15.0)\n",
            "Requirement already satisfied: pyparsing!=3.0.5,>=2.0.2 in /usr/local/lib/python3.7/dist-packages (from packaging->keras-tuner) (3.0.7)\n",
            "Requirement already satisfied: ptyprocess>=0.5 in /usr/local/lib/python3.7/dist-packages (from pexpect->ipython->keras-tuner) (0.7.0)\n",
            "Requirement already satisfied: chardet<4,>=3.0.2 in /usr/local/lib/python3.7/dist-packages (from requests->keras-tuner) (3.0.4)\n",
            "Requirement already satisfied: certifi>=2017.4.17 in /usr/local/lib/python3.7/dist-packages (from requests->keras-tuner) (2021.10.8)\n",
            "Requirement already satisfied: urllib3!=1.25.0,!=1.25.1,<1.26,>=1.21.1 in /usr/local/lib/python3.7/dist-packages (from requests->keras-tuner) (1.24.3)\n",
            "Requirement already satisfied: idna<3,>=2.5 in /usr/local/lib/python3.7/dist-packages (from requests->keras-tuner) (2.10)\n",
            "Requirement already satisfied: werkzeug>=0.11.15 in /usr/local/lib/python3.7/dist-packages (from tensorboard->keras-tuner) (1.0.1)\n",
            "Requirement already satisfied: google-auth<3,>=1.6.3 in /usr/local/lib/python3.7/dist-packages (from tensorboard->keras-tuner) (1.35.0)\n",
            "Requirement already satisfied: tensorboard-plugin-wit>=1.6.0 in /usr/local/lib/python3.7/dist-packages (from tensorboard->keras-tuner) (1.8.1)\n",
            "Requirement already satisfied: google-auth-oauthlib<0.5,>=0.4.1 in /usr/local/lib/python3.7/dist-packages (from tensorboard->keras-tuner) (0.4.6)\n",
            "Requirement already satisfied: protobuf>=3.6.0 in /usr/local/lib/python3.7/dist-packages (from tensorboard->keras-tuner) (3.17.3)\n",
            "Requirement already satisfied: tensorboard-data-server<0.7.0,>=0.6.0 in /usr/local/lib/python3.7/dist-packages (from tensorboard->keras-tuner) (0.6.1)\n",
            "Requirement already satisfied: wheel>=0.26 in /usr/local/lib/python3.7/dist-packages (from tensorboard->keras-tuner) (0.37.1)\n",
            "Requirement already satisfied: grpcio>=1.24.3 in /usr/local/lib/python3.7/dist-packages (from tensorboard->keras-tuner) (1.44.0)\n",
            "Requirement already satisfied: absl-py>=0.4 in /usr/local/lib/python3.7/dist-packages (from tensorboard->keras-tuner) (1.0.0)\n",
            "Requirement already satisfied: markdown>=2.6.8 in /usr/local/lib/python3.7/dist-packages (from tensorboard->keras-tuner) (3.3.6)\n",
            "Requirement already satisfied: cachetools<5.0,>=2.0.0 in /usr/local/lib/python3.7/dist-packages (from google-auth<3,>=1.6.3->tensorboard->keras-tuner) (4.2.4)\n",
            "Requirement already satisfied: pyasn1-modules>=0.2.1 in /usr/local/lib/python3.7/dist-packages (from google-auth<3,>=1.6.3->tensorboard->keras-tuner) (0.2.8)\n",
            "Requirement already satisfied: rsa<5,>=3.1.4 in /usr/local/lib/python3.7/dist-packages (from google-auth<3,>=1.6.3->tensorboard->keras-tuner) (4.8)\n",
            "Requirement already satisfied: requests-oauthlib>=0.7.0 in /usr/local/lib/python3.7/dist-packages (from google-auth-oauthlib<0.5,>=0.4.1->tensorboard->keras-tuner) (1.3.1)\n",
            "Requirement already satisfied: importlib-metadata>=4.4 in /usr/local/lib/python3.7/dist-packages (from markdown>=2.6.8->tensorboard->keras-tuner) (4.11.2)\n",
            "Requirement already satisfied: zipp>=0.5 in /usr/local/lib/python3.7/dist-packages (from importlib-metadata>=4.4->markdown>=2.6.8->tensorboard->keras-tuner) (3.7.0)\n",
            "Requirement already satisfied: typing-extensions>=3.6.4 in /usr/local/lib/python3.7/dist-packages (from importlib-metadata>=4.4->markdown>=2.6.8->tensorboard->keras-tuner) (3.10.0.2)\n",
            "Requirement already satisfied: pyasn1<0.5.0,>=0.4.6 in /usr/local/lib/python3.7/dist-packages (from pyasn1-modules>=0.2.1->google-auth<3,>=1.6.3->tensorboard->keras-tuner) (0.4.8)\n",
            "Requirement already satisfied: oauthlib>=3.0.0 in /usr/local/lib/python3.7/dist-packages (from requests-oauthlib>=0.7.0->google-auth-oauthlib<0.5,>=0.4.1->tensorboard->keras-tuner) (3.2.0)\n"
          ]
        }
      ],
      "source": [
        "# install the Keras-tuner library\n",
        "!pip install keras-tuner"
      ]
    },
    {
      "cell_type": "code",
      "source": [
        "import numpy as np # linear algebra\n",
        "import pandas as pd # data processing, CSV file I/O (e.g. pd.read_csv)\n",
        "\n",
        "\n",
        "import matplotlib.pyplot as plt # plotting library\n",
        "%matplotlib inline\n",
        "from IPython.display import display\n",
        "from sklearn.preprocessing import normalize\n",
        "from sklearn.model_selection import train_test_split\n",
        "import tensorflow as tf\n",
        "from tensorflow.keras import utils\n",
        "from tensorflow.keras.models import Sequential\n",
        "from tensorflow.keras.layers import Dense\n",
        "import matplotlib.pyplot as plt\n",
        "from keras.models import Sequential\n",
        "from keras.layers import Dense , Activation, Dropout, Flatten\n",
        "from keras.utils import np_utils"
      ],
      "metadata": {
        "id": "1BHbSEP5Nv_N"
      },
      "execution_count": 2,
      "outputs": []
    },
    {
      "cell_type": "code",
      "source": [
        "# install the Keras-tuner library\n",
        "!pip install keras-tuner\n",
        "# import the library and refer to it as kt\n",
        "import kerastuner as kt"
      ],
      "metadata": {
        "colab": {
          "base_uri": "https://localhost:8080/"
        },
        "id": "ShMZuvFDtc4t",
        "outputId": "2b6d6cdb-4dae-4098-aae5-8368964aea37"
      },
      "execution_count": 3,
      "outputs": [
        {
          "output_type": "stream",
          "name": "stdout",
          "text": [
            "Requirement already satisfied: keras-tuner in /usr/local/lib/python3.7/dist-packages (1.1.0)\n",
            "Requirement already satisfied: packaging in /usr/local/lib/python3.7/dist-packages (from keras-tuner) (21.3)\n",
            "Requirement already satisfied: requests in /usr/local/lib/python3.7/dist-packages (from keras-tuner) (2.23.0)\n",
            "Requirement already satisfied: ipython in /usr/local/lib/python3.7/dist-packages (from keras-tuner) (5.5.0)\n",
            "Requirement already satisfied: kt-legacy in /usr/local/lib/python3.7/dist-packages (from keras-tuner) (1.0.4)\n",
            "Requirement already satisfied: scipy in /usr/local/lib/python3.7/dist-packages (from keras-tuner) (1.4.1)\n",
            "Requirement already satisfied: numpy in /usr/local/lib/python3.7/dist-packages (from keras-tuner) (1.21.5)\n",
            "Requirement already satisfied: tensorboard in /usr/local/lib/python3.7/dist-packages (from keras-tuner) (2.8.0)\n",
            "Requirement already satisfied: setuptools>=18.5 in /usr/local/lib/python3.7/dist-packages (from ipython->keras-tuner) (57.4.0)\n",
            "Requirement already satisfied: pygments in /usr/local/lib/python3.7/dist-packages (from ipython->keras-tuner) (2.6.1)\n",
            "Requirement already satisfied: pexpect in /usr/local/lib/python3.7/dist-packages (from ipython->keras-tuner) (4.8.0)\n",
            "Requirement already satisfied: decorator in /usr/local/lib/python3.7/dist-packages (from ipython->keras-tuner) (4.4.2)\n",
            "Requirement already satisfied: prompt-toolkit<2.0.0,>=1.0.4 in /usr/local/lib/python3.7/dist-packages (from ipython->keras-tuner) (1.0.18)\n",
            "Requirement already satisfied: traitlets>=4.2 in /usr/local/lib/python3.7/dist-packages (from ipython->keras-tuner) (5.1.1)\n",
            "Requirement already satisfied: simplegeneric>0.8 in /usr/local/lib/python3.7/dist-packages (from ipython->keras-tuner) (0.8.1)\n",
            "Requirement already satisfied: pickleshare in /usr/local/lib/python3.7/dist-packages (from ipython->keras-tuner) (0.7.5)\n",
            "Requirement already satisfied: six>=1.9.0 in /usr/local/lib/python3.7/dist-packages (from prompt-toolkit<2.0.0,>=1.0.4->ipython->keras-tuner) (1.15.0)\n",
            "Requirement already satisfied: wcwidth in /usr/local/lib/python3.7/dist-packages (from prompt-toolkit<2.0.0,>=1.0.4->ipython->keras-tuner) (0.2.5)\n",
            "Requirement already satisfied: pyparsing!=3.0.5,>=2.0.2 in /usr/local/lib/python3.7/dist-packages (from packaging->keras-tuner) (3.0.7)\n",
            "Requirement already satisfied: ptyprocess>=0.5 in /usr/local/lib/python3.7/dist-packages (from pexpect->ipython->keras-tuner) (0.7.0)\n",
            "Requirement already satisfied: idna<3,>=2.5 in /usr/local/lib/python3.7/dist-packages (from requests->keras-tuner) (2.10)\n",
            "Requirement already satisfied: certifi>=2017.4.17 in /usr/local/lib/python3.7/dist-packages (from requests->keras-tuner) (2021.10.8)\n",
            "Requirement already satisfied: urllib3!=1.25.0,!=1.25.1,<1.26,>=1.21.1 in /usr/local/lib/python3.7/dist-packages (from requests->keras-tuner) (1.24.3)\n",
            "Requirement already satisfied: chardet<4,>=3.0.2 in /usr/local/lib/python3.7/dist-packages (from requests->keras-tuner) (3.0.4)\n",
            "Requirement already satisfied: protobuf>=3.6.0 in /usr/local/lib/python3.7/dist-packages (from tensorboard->keras-tuner) (3.17.3)\n",
            "Requirement already satisfied: werkzeug>=0.11.15 in /usr/local/lib/python3.7/dist-packages (from tensorboard->keras-tuner) (1.0.1)\n",
            "Requirement already satisfied: google-auth-oauthlib<0.5,>=0.4.1 in /usr/local/lib/python3.7/dist-packages (from tensorboard->keras-tuner) (0.4.6)\n",
            "Requirement already satisfied: wheel>=0.26 in /usr/local/lib/python3.7/dist-packages (from tensorboard->keras-tuner) (0.37.1)\n",
            "Requirement already satisfied: grpcio>=1.24.3 in /usr/local/lib/python3.7/dist-packages (from tensorboard->keras-tuner) (1.44.0)\n",
            "Requirement already satisfied: markdown>=2.6.8 in /usr/local/lib/python3.7/dist-packages (from tensorboard->keras-tuner) (3.3.6)\n",
            "Requirement already satisfied: tensorboard-plugin-wit>=1.6.0 in /usr/local/lib/python3.7/dist-packages (from tensorboard->keras-tuner) (1.8.1)\n",
            "Requirement already satisfied: google-auth<3,>=1.6.3 in /usr/local/lib/python3.7/dist-packages (from tensorboard->keras-tuner) (1.35.0)\n",
            "Requirement already satisfied: tensorboard-data-server<0.7.0,>=0.6.0 in /usr/local/lib/python3.7/dist-packages (from tensorboard->keras-tuner) (0.6.1)\n",
            "Requirement already satisfied: absl-py>=0.4 in /usr/local/lib/python3.7/dist-packages (from tensorboard->keras-tuner) (1.0.0)\n",
            "Requirement already satisfied: rsa<5,>=3.1.4 in /usr/local/lib/python3.7/dist-packages (from google-auth<3,>=1.6.3->tensorboard->keras-tuner) (4.8)\n",
            "Requirement already satisfied: cachetools<5.0,>=2.0.0 in /usr/local/lib/python3.7/dist-packages (from google-auth<3,>=1.6.3->tensorboard->keras-tuner) (4.2.4)\n",
            "Requirement already satisfied: pyasn1-modules>=0.2.1 in /usr/local/lib/python3.7/dist-packages (from google-auth<3,>=1.6.3->tensorboard->keras-tuner) (0.2.8)\n",
            "Requirement already satisfied: requests-oauthlib>=0.7.0 in /usr/local/lib/python3.7/dist-packages (from google-auth-oauthlib<0.5,>=0.4.1->tensorboard->keras-tuner) (1.3.1)\n",
            "Requirement already satisfied: importlib-metadata>=4.4 in /usr/local/lib/python3.7/dist-packages (from markdown>=2.6.8->tensorboard->keras-tuner) (4.11.2)\n",
            "Requirement already satisfied: zipp>=0.5 in /usr/local/lib/python3.7/dist-packages (from importlib-metadata>=4.4->markdown>=2.6.8->tensorboard->keras-tuner) (3.7.0)\n",
            "Requirement already satisfied: typing-extensions>=3.6.4 in /usr/local/lib/python3.7/dist-packages (from importlib-metadata>=4.4->markdown>=2.6.8->tensorboard->keras-tuner) (3.10.0.2)\n",
            "Requirement already satisfied: pyasn1<0.5.0,>=0.4.6 in /usr/local/lib/python3.7/dist-packages (from pyasn1-modules>=0.2.1->google-auth<3,>=1.6.3->tensorboard->keras-tuner) (0.4.8)\n",
            "Requirement already satisfied: oauthlib>=3.0.0 in /usr/local/lib/python3.7/dist-packages (from requests-oauthlib>=0.7.0->google-auth-oauthlib<0.5,>=0.4.1->tensorboard->keras-tuner) (3.2.0)\n"
          ]
        },
        {
          "output_type": "stream",
          "name": "stderr",
          "text": [
            "/usr/local/lib/python3.7/dist-packages/ipykernel_launcher.py:4: DeprecationWarning: `import kerastuner` is deprecated, please use `import keras_tuner`.\n",
            "  after removing the cwd from sys.path.\n"
          ]
        }
      ]
    },
    {
      "cell_type": "code",
      "source": [
        "# load the mnist dataset from keras\n",
        "import tensorflow as tf\n",
        "from tensorflow.keras import datasets\n",
        "(x_train, y_train), (x_test, y_test) = tf.keras.datasets.fashion_mnist.load_data()"
      ],
      "metadata": {
        "id": "ReYTUYzTtkJc"
      },
      "execution_count": 4,
      "outputs": []
    },
    {
      "cell_type": "code",
      "source": [
        "# data pre-processing - we need to reshape to specify a channel of 1 on the end of the\n",
        "# data to signify that there is one channel as it is a grayscale image\n",
        "x_train = x_train.reshape(60000,28,28,1)\n",
        "x_test = x_test.reshape(10000,28,28,1)\n",
        "\n",
        "# resize and normalize\n",
        "x_train = x_train.astype('float32') / 255.0\n",
        "x_test = x_test.astype('float32') / 255.0\n",
        "\n",
        "# one-hot encode the train and test target columns\n",
        "from tensorflow.keras.utils import to_categorical\n",
        "y_train = to_categorical(y_train)\n",
        "y_test = to_categorical(y_test)"
      ],
      "metadata": {
        "id": "C5bzof5oMx2v"
      },
      "execution_count": 5,
      "outputs": []
    },
    {
      "cell_type": "code",
      "source": [
        "# create the model\n",
        "from keras.models import Sequential\n",
        "from keras.layers import Dense\n",
        "# create a regularizer object\n",
        "from tensorflow.keras import regularizers # import the regularizers module\n",
        "reg = regularizers.l2(l2=0.01)\n",
        "def model_builder(hp):\n",
        "  model = Sequential() \n",
        "  model.add(Flatten(input_shape=(x_train.shape[1:])))\n",
        "  hp_units = hp.Int('hidden_layer_1_units', min_value = 32, max_value = 512, step = 32)\n",
        "  model.add(Dense(hp_units, activation ='relu',kernel_regularizer=reg))\n",
        "  model.add(Dropout(0.2))\n",
        "  model.add(Dense(10, activation='softmax'))\n",
        "  #model.summary()\n",
        "  # compiling the model\n",
        "  hp_learning_rate = hp.Choice('learning_rate', values = [1e-1,1e-2, 1e-3, 1e-4]) \n",
        "  # create the Adam optimiser, specifying the variable learning rate\n",
        "  opt = tf.keras.optimizers.Adam(learning_rate = hp_learning_rate)\n",
        "  model.compile(optimizer = opt, loss='categorical_crossentropy', metrics=['accuracy'])\n",
        "  return model"
      ],
      "metadata": {
        "id": "nn02mGk0M2PL"
      },
      "execution_count": 6,
      "outputs": []
    },
    {
      "cell_type": "code",
      "source": [
        "print(x_train.shape)\n",
        "print(y_train.shape)\n",
        "print(x_test.shape)\n",
        "print(y_test.shape)"
      ],
      "metadata": {
        "colab": {
          "base_uri": "https://localhost:8080/"
        },
        "id": "CLDWzgF_tugf",
        "outputId": "da18d490-9b6a-4306-be6d-47aed486eea3"
      },
      "execution_count": 7,
      "outputs": [
        {
          "output_type": "stream",
          "name": "stdout",
          "text": [
            "(60000, 28, 28, 1)\n",
            "(60000, 10)\n",
            "(10000, 28, 28, 1)\n",
            "(10000, 10)\n"
          ]
        }
      ]
    },
    {
      "cell_type": "code",
      "source": [
        "# instatiate the tuner and perform hypertuning\n",
        "tuner = kt.Hyperband(model_builder,\n",
        "                     objective = 'val_accuracy', \n",
        "                     max_epochs = 10,\n",
        "                     factor = 3,        # factor is a number that determines how many models are created to run in parallel whaen testing the hyperparameters\n",
        "                     directory = 'my_dir',  # directory that the tuned hyperparameter results are stored in (change the name of this directory if you get the message INFO:tensorflow:Oracle triggered exit)\n",
        "                     project_name = 'intro_to_kt') "
      ],
      "metadata": {
        "colab": {
          "base_uri": "https://localhost:8080/"
        },
        "id": "favlDfbdt6M7",
        "outputId": "a0b0ab69-20a7-4d16-974d-1a1fa96f8d12"
      },
      "execution_count": 8,
      "outputs": [
        {
          "output_type": "stream",
          "name": "stdout",
          "text": [
            "INFO:tensorflow:Reloading Oracle from existing project my_dir/intro_to_kt/oracle.json\n",
            "INFO:tensorflow:Reloading Tuner from my_dir/intro_to_kt/tuner0.json\n"
          ]
        }
      ]
    },
    {
      "cell_type": "code",
      "source": [
        ""
      ],
      "metadata": {
        "id": "XEjK7wZINuaK"
      },
      "execution_count": 8,
      "outputs": []
    },
    {
      "cell_type": "code",
      "source": [
        "# define a callback to clear the training outputs at the end of every training step\n",
        "class ClearTrainingOutput(tf.keras.callbacks.Callback):\n",
        "  def on_train_end(*args, **kwargs):\n",
        "    IPython.display.clear_output(wait = True)"
      ],
      "metadata": {
        "id": "Eeni7XjSt8o0"
      },
      "execution_count": 9,
      "outputs": []
    },
    {
      "cell_type": "code",
      "source": [
        "import IPython\n",
        "# run the hyperparameter search\n",
        "tuner.search(x_train, y_train, epochs = 10, validation_data = (x_test, y_test), callbacks = [ClearTrainingOutput()])"
      ],
      "metadata": {
        "colab": {
          "base_uri": "https://localhost:8080/"
        },
        "id": "-AAI2eCYt-8A",
        "outputId": "e8477930-9cf9-4416-b6a8-d5ce2a2d0462"
      },
      "execution_count": 10,
      "outputs": [
        {
          "output_type": "stream",
          "name": "stdout",
          "text": [
            "INFO:tensorflow:Oracle triggered exit\n"
          ]
        }
      ]
    },
    {
      "cell_type": "code",
      "source": [
        "# print out the hyperparameters keras tuner has determined to be the best values\n",
        "best_hps = tuner.get_best_hyperparameters()[0]\n",
        "print(best_hps.values)"
      ],
      "metadata": {
        "colab": {
          "base_uri": "https://localhost:8080/"
        },
        "id": "Yxr9cK7B8CA_",
        "outputId": "aeeab5c0-12b9-4272-8191-2210c5861c8a"
      },
      "execution_count": 11,
      "outputs": [
        {
          "output_type": "stream",
          "name": "stdout",
          "text": [
            "{'hidden_layer_1_units': 448, 'learning_rate': 0.0001, 'tuner/epochs': 10, 'tuner/initial_epoch': 0, 'tuner/bracket': 0, 'tuner/round': 0}\n"
          ]
        }
      ]
    },
    {
      "cell_type": "code",
      "source": [
        "# set the model to have the optimum hyperparameters and print the summary so we can see the \n",
        "model = tuner.hypermodel.build(best_hps)\n",
        "model.summary()"
      ],
      "metadata": {
        "colab": {
          "base_uri": "https://localhost:8080/"
        },
        "id": "Jj8Wukxu8IQ_",
        "outputId": "b30bab5e-9e60-4191-e6b1-a1434c5bf6d7"
      },
      "execution_count": 12,
      "outputs": [
        {
          "output_type": "stream",
          "name": "stdout",
          "text": [
            "Model: \"sequential_1\"\n",
            "_________________________________________________________________\n",
            " Layer (type)                Output Shape              Param #   \n",
            "=================================================================\n",
            " flatten_1 (Flatten)         (None, 784)               0         \n",
            "                                                                 \n",
            " dense_2 (Dense)             (None, 448)               351680    \n",
            "                                                                 \n",
            " dropout_1 (Dropout)         (None, 448)               0         \n",
            "                                                                 \n",
            " dense_3 (Dense)             (None, 10)                4490      \n",
            "                                                                 \n",
            "=================================================================\n",
            "Total params: 356,170\n",
            "Trainable params: 356,170\n",
            "Non-trainable params: 0\n",
            "_________________________________________________________________\n"
          ]
        }
      ]
    },
    {
      "cell_type": "code",
      "source": [
        "# train the model as usual\n",
        "history = model.fit(x_train, y_train, epochs =60, validation_data = (x_test, y_test))"
      ],
      "metadata": {
        "colab": {
          "base_uri": "https://localhost:8080/"
        },
        "id": "MjQF5UO-8LWh",
        "outputId": "0a9e574d-7647-4a88-dee4-395331c54f6e"
      },
      "execution_count": 13,
      "outputs": [
        {
          "output_type": "stream",
          "name": "stdout",
          "text": [
            "Epoch 1/60\n",
            "1875/1875 [==============================] - 19s 10ms/step - loss: 2.6920 - accuracy: 0.7753 - val_loss: 1.1950 - val_accuracy: 0.8197\n",
            "Epoch 2/60\n",
            "1875/1875 [==============================] - 14s 7ms/step - loss: 0.8877 - accuracy: 0.8254 - val_loss: 0.7179 - val_accuracy: 0.8279\n",
            "Epoch 3/60\n",
            "1875/1875 [==============================] - 12s 6ms/step - loss: 0.6523 - accuracy: 0.8318 - val_loss: 0.6136 - val_accuracy: 0.8315\n",
            "Epoch 4/60\n",
            "1875/1875 [==============================] - 11s 6ms/step - loss: 0.5899 - accuracy: 0.8356 - val_loss: 0.5969 - val_accuracy: 0.8227\n",
            "Epoch 5/60\n",
            "1875/1875 [==============================] - 12s 6ms/step - loss: 0.5634 - accuracy: 0.8393 - val_loss: 0.5718 - val_accuracy: 0.8302\n",
            "Epoch 6/60\n",
            "1875/1875 [==============================] - 12s 6ms/step - loss: 0.5470 - accuracy: 0.8408 - val_loss: 0.5478 - val_accuracy: 0.8374\n",
            "Epoch 7/60\n",
            "1875/1875 [==============================] - 11s 6ms/step - loss: 0.5358 - accuracy: 0.8430 - val_loss: 0.5562 - val_accuracy: 0.8328\n",
            "Epoch 8/60\n",
            "1875/1875 [==============================] - 12s 6ms/step - loss: 0.5275 - accuracy: 0.8453 - val_loss: 0.5347 - val_accuracy: 0.8413\n",
            "Epoch 9/60\n",
            "1875/1875 [==============================] - 12s 6ms/step - loss: 0.5189 - accuracy: 0.8480 - val_loss: 0.5225 - val_accuracy: 0.8459\n",
            "Epoch 10/60\n",
            "1875/1875 [==============================] - 12s 7ms/step - loss: 0.5126 - accuracy: 0.8483 - val_loss: 0.5285 - val_accuracy: 0.8388\n",
            "Epoch 11/60\n",
            "1875/1875 [==============================] - 11s 6ms/step - loss: 0.5052 - accuracy: 0.8505 - val_loss: 0.5244 - val_accuracy: 0.8405\n",
            "Epoch 12/60\n",
            "1875/1875 [==============================] - 12s 6ms/step - loss: 0.4984 - accuracy: 0.8514 - val_loss: 0.5126 - val_accuracy: 0.8485\n",
            "Epoch 13/60\n",
            "1875/1875 [==============================] - 13s 7ms/step - loss: 0.4953 - accuracy: 0.8528 - val_loss: 0.5113 - val_accuracy: 0.8458\n",
            "Epoch 14/60\n",
            "1875/1875 [==============================] - 13s 7ms/step - loss: 0.4910 - accuracy: 0.8547 - val_loss: 0.5073 - val_accuracy: 0.8480\n",
            "Epoch 15/60\n",
            "1875/1875 [==============================] - 13s 7ms/step - loss: 0.4883 - accuracy: 0.8547 - val_loss: 0.5117 - val_accuracy: 0.8467\n",
            "Epoch 16/60\n",
            "1875/1875 [==============================] - 12s 7ms/step - loss: 0.4823 - accuracy: 0.8562 - val_loss: 0.4957 - val_accuracy: 0.8480\n",
            "Epoch 17/60\n",
            "1875/1875 [==============================] - 13s 7ms/step - loss: 0.4795 - accuracy: 0.8579 - val_loss: 0.5052 - val_accuracy: 0.8448\n",
            "Epoch 18/60\n",
            "1875/1875 [==============================] - 13s 7ms/step - loss: 0.4771 - accuracy: 0.8581 - val_loss: 0.5078 - val_accuracy: 0.8476\n",
            "Epoch 19/60\n",
            "1875/1875 [==============================] - 12s 6ms/step - loss: 0.4744 - accuracy: 0.8572 - val_loss: 0.4929 - val_accuracy: 0.8540\n",
            "Epoch 20/60\n",
            "1875/1875 [==============================] - 12s 7ms/step - loss: 0.4703 - accuracy: 0.8599 - val_loss: 0.5013 - val_accuracy: 0.8431\n",
            "Epoch 21/60\n",
            "1875/1875 [==============================] - 14s 7ms/step - loss: 0.4693 - accuracy: 0.8606 - val_loss: 0.4829 - val_accuracy: 0.8563\n",
            "Epoch 22/60\n",
            "1875/1875 [==============================] - 13s 7ms/step - loss: 0.4652 - accuracy: 0.8608 - val_loss: 0.4795 - val_accuracy: 0.8560\n",
            "Epoch 23/60\n",
            "1875/1875 [==============================] - 14s 7ms/step - loss: 0.4647 - accuracy: 0.8617 - val_loss: 0.5009 - val_accuracy: 0.8469\n",
            "Epoch 24/60\n",
            "1875/1875 [==============================] - 13s 7ms/step - loss: 0.4632 - accuracy: 0.8609 - val_loss: 0.4996 - val_accuracy: 0.8453\n",
            "Epoch 25/60\n",
            "1875/1875 [==============================] - 12s 7ms/step - loss: 0.4587 - accuracy: 0.8627 - val_loss: 0.4850 - val_accuracy: 0.8527\n",
            "Epoch 26/60\n",
            "1875/1875 [==============================] - 13s 7ms/step - loss: 0.4574 - accuracy: 0.8627 - val_loss: 0.4819 - val_accuracy: 0.8534\n",
            "Epoch 27/60\n",
            "1875/1875 [==============================] - 13s 7ms/step - loss: 0.4548 - accuracy: 0.8632 - val_loss: 0.4770 - val_accuracy: 0.8567\n",
            "Epoch 28/60\n",
            "1875/1875 [==============================] - 13s 7ms/step - loss: 0.4540 - accuracy: 0.8643 - val_loss: 0.4807 - val_accuracy: 0.8538\n",
            "Epoch 29/60\n",
            "1875/1875 [==============================] - 13s 7ms/step - loss: 0.4531 - accuracy: 0.8653 - val_loss: 0.4733 - val_accuracy: 0.8558\n",
            "Epoch 30/60\n",
            "1875/1875 [==============================] - 13s 7ms/step - loss: 0.4497 - accuracy: 0.8656 - val_loss: 0.4718 - val_accuracy: 0.8563\n",
            "Epoch 31/60\n",
            "1875/1875 [==============================] - 13s 7ms/step - loss: 0.4499 - accuracy: 0.8657 - val_loss: 0.4918 - val_accuracy: 0.8495\n",
            "Epoch 32/60\n",
            "1875/1875 [==============================] - 13s 7ms/step - loss: 0.4474 - accuracy: 0.8661 - val_loss: 0.4792 - val_accuracy: 0.8551\n",
            "Epoch 33/60\n",
            "1875/1875 [==============================] - 13s 7ms/step - loss: 0.4457 - accuracy: 0.8672 - val_loss: 0.4650 - val_accuracy: 0.8622\n",
            "Epoch 34/60\n",
            "1875/1875 [==============================] - 13s 7ms/step - loss: 0.4452 - accuracy: 0.8666 - val_loss: 0.4696 - val_accuracy: 0.8570\n",
            "Epoch 35/60\n",
            "1875/1875 [==============================] - 13s 7ms/step - loss: 0.4431 - accuracy: 0.8677 - val_loss: 0.4583 - val_accuracy: 0.8628\n",
            "Epoch 36/60\n",
            "1875/1875 [==============================] - 12s 6ms/step - loss: 0.4420 - accuracy: 0.8675 - val_loss: 0.4792 - val_accuracy: 0.8504\n",
            "Epoch 37/60\n",
            "1875/1875 [==============================] - 13s 7ms/step - loss: 0.4403 - accuracy: 0.8677 - val_loss: 0.4678 - val_accuracy: 0.8595\n",
            "Epoch 38/60\n",
            "1875/1875 [==============================] - 13s 7ms/step - loss: 0.4386 - accuracy: 0.8688 - val_loss: 0.4537 - val_accuracy: 0.8615\n",
            "Epoch 39/60\n",
            "1875/1875 [==============================] - 13s 7ms/step - loss: 0.4395 - accuracy: 0.8683 - val_loss: 0.4778 - val_accuracy: 0.8508\n",
            "Epoch 40/60\n",
            "1875/1875 [==============================] - 13s 7ms/step - loss: 0.4362 - accuracy: 0.8708 - val_loss: 0.4459 - val_accuracy: 0.8646\n",
            "Epoch 41/60\n",
            "1875/1875 [==============================] - 15s 8ms/step - loss: 0.4339 - accuracy: 0.8701 - val_loss: 0.4564 - val_accuracy: 0.8620\n",
            "Epoch 42/60\n",
            "1875/1875 [==============================] - 13s 7ms/step - loss: 0.4344 - accuracy: 0.8695 - val_loss: 0.4482 - val_accuracy: 0.8652\n",
            "Epoch 43/60\n",
            "1875/1875 [==============================] - 13s 7ms/step - loss: 0.4313 - accuracy: 0.8713 - val_loss: 0.4547 - val_accuracy: 0.8633\n",
            "Epoch 44/60\n",
            "1875/1875 [==============================] - 13s 7ms/step - loss: 0.4320 - accuracy: 0.8699 - val_loss: 0.4563 - val_accuracy: 0.8603\n",
            "Epoch 45/60\n",
            "1875/1875 [==============================] - 12s 7ms/step - loss: 0.4320 - accuracy: 0.8710 - val_loss: 0.4700 - val_accuracy: 0.8574\n",
            "Epoch 46/60\n",
            "1875/1875 [==============================] - 13s 7ms/step - loss: 0.4296 - accuracy: 0.8711 - val_loss: 0.4529 - val_accuracy: 0.8629\n",
            "Epoch 47/60\n",
            "1875/1875 [==============================] - 13s 7ms/step - loss: 0.4287 - accuracy: 0.8717 - val_loss: 0.4659 - val_accuracy: 0.8553\n",
            "Epoch 48/60\n",
            "1875/1875 [==============================] - 13s 7ms/step - loss: 0.4290 - accuracy: 0.8710 - val_loss: 0.4702 - val_accuracy: 0.8565\n",
            "Epoch 49/60\n",
            "1875/1875 [==============================] - 13s 7ms/step - loss: 0.4274 - accuracy: 0.8724 - val_loss: 0.4525 - val_accuracy: 0.8645\n",
            "Epoch 50/60\n",
            "1875/1875 [==============================] - 13s 7ms/step - loss: 0.4260 - accuracy: 0.8732 - val_loss: 0.4491 - val_accuracy: 0.8644\n",
            "Epoch 51/60\n",
            "1875/1875 [==============================] - 13s 7ms/step - loss: 0.4259 - accuracy: 0.8737 - val_loss: 0.4497 - val_accuracy: 0.8641\n",
            "Epoch 52/60\n",
            "1875/1875 [==============================] - 13s 7ms/step - loss: 0.4262 - accuracy: 0.8725 - val_loss: 0.4437 - val_accuracy: 0.8665\n",
            "Epoch 53/60\n",
            "1875/1875 [==============================] - 13s 7ms/step - loss: 0.4246 - accuracy: 0.8729 - val_loss: 0.4458 - val_accuracy: 0.8648\n",
            "Epoch 54/60\n",
            "1875/1875 [==============================] - 13s 7ms/step - loss: 0.4242 - accuracy: 0.8744 - val_loss: 0.4489 - val_accuracy: 0.8666\n",
            "Epoch 55/60\n",
            "1875/1875 [==============================] - 12s 7ms/step - loss: 0.4227 - accuracy: 0.8739 - val_loss: 0.4431 - val_accuracy: 0.8647\n",
            "Epoch 56/60\n",
            "1875/1875 [==============================] - 13s 7ms/step - loss: 0.4223 - accuracy: 0.8745 - val_loss: 0.4613 - val_accuracy: 0.8602\n",
            "Epoch 57/60\n",
            "1875/1875 [==============================] - 13s 7ms/step - loss: 0.4214 - accuracy: 0.8748 - val_loss: 0.4673 - val_accuracy: 0.8571\n",
            "Epoch 58/60\n",
            "1875/1875 [==============================] - 12s 7ms/step - loss: 0.4207 - accuracy: 0.8745 - val_loss: 0.4717 - val_accuracy: 0.8529\n",
            "Epoch 59/60\n",
            "1875/1875 [==============================] - 14s 8ms/step - loss: 0.4190 - accuracy: 0.8750 - val_loss: 0.4535 - val_accuracy: 0.8613\n",
            "Epoch 60/60\n",
            "1875/1875 [==============================] - 13s 7ms/step - loss: 0.4183 - accuracy: 0.8742 - val_loss: 0.4496 - val_accuracy: 0.8632\n"
          ]
        }
      ]
    },
    {
      "cell_type": "code",
      "source": [
        "# plot the history of the training\n",
        "import matplotlib.pyplot as plt\n",
        "\n",
        "# summarize the history for accuracy\n",
        "plt.figure(figsize=(15,10))\n",
        "plt.plot(history.history['accuracy'])\n",
        "plt.plot(history.history['val_accuracy'])\n",
        "plt.title('model accuracy')\n",
        "plt.ylabel('accuracy')\n",
        "plt.xlabel('epoch')\n",
        "plt.legend(['train','validation'], loc='upper left')\n",
        "plt.show()\n",
        "\n",
        "# summarize the history for loss\n",
        "plt.figure(figsize=(15,10))\n",
        "plt.plot(history.history['loss'])\n",
        "plt.plot(history.history['val_loss'])\n",
        "plt.title('model loss')\n",
        "plt.ylabel('loss')\n",
        "plt.xlabel('epoch')\n",
        "plt.legend(['train','validation'], loc='upper left')\n",
        "plt.show()"
      ],
      "metadata": {
        "colab": {
          "base_uri": "https://localhost:8080/",
          "height": 1000
        },
        "id": "TFopSO3_-Slr",
        "outputId": "2a9e89e4-74c6-4d1a-bd0e-c31e3d521cb2"
      },
      "execution_count": 16,
      "outputs": [
        {
          "output_type": "display_data",
          "data": {
            "text/plain": [
              "<Figure size 1080x720 with 1 Axes>"
            ],
            "image/png": "[encoded data removed]"
          },
          "metadata": {
            "needs_background": "light"
          }
        },
        {
          "output_type": "display_data",
          "data": {
            "text/plain": [
              "<Figure size 1080x720 with 1 Axes>"
            ],
            "image/png": "[encoded data removed]"
          },
          "metadata": {
            "needs_background": "light"
          }
        }
      ]
    }
  ]
}